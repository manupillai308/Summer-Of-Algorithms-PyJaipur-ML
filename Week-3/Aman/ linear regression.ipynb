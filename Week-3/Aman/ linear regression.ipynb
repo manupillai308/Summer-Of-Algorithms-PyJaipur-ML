{
 "cells": [
  {
   "cell_type": "code",
   "execution_count": 2,
   "metadata": {},
   "outputs": [],
   "source": [
    "import numpy as np\n",
    "import matplotlib.pyplot as plt\n",
    "import pandas as pd"
   ]
  },
  {
   "cell_type": "code",
   "execution_count": 3,
   "metadata": {},
   "outputs": [],
   "source": [
    "\n",
    "x=np.array([0,1,2,3,4,5,6,7,8,9])\n",
    "y=np.array([1,3,2,5,7,8,8,9,10,12])"
   ]
  },
  {
   "cell_type": "code",
   "execution_count": 4,
   "metadata": {},
   "outputs": [
    {
     "name": "stdout",
     "output_type": "stream",
     "text": [
      "[0 1 2 3 4 5 6 7 8 9]\n",
      "[ 1  3  2  5  7  8  8  9 10 12]\n"
     ]
    }
   ],
   "source": [
    "print(x)\n",
    "print(y)"
   ]
  },
  {
   "cell_type": "code",
   "execution_count": 5,
   "metadata": {},
   "outputs": [
    {
     "data": {
      "image/png": "[encoded data removed]",
      "text/plain": [
       "<Figure size 432x288 with 1 Axes>"
      ]
     },
     "metadata": {},
     "output_type": "display_data"
    }
   ],
   "source": [
    "plt.scatter(x,y)\n",
    "plt.show()"
   ]
  },
  {
   "cell_type": "code",
   "execution_count": 6,
   "metadata": {},
   "outputs": [
    {
     "data": {
      "image/png": "[encoded data removed]",
      "text/plain": [
       "<Figure size 432x288 with 1 Axes>"
      ]
     },
     "metadata": {},
     "output_type": "display_data"
    }
   ],
   "source": [
    "x = x - x.mean()/(x.std())\n",
    "plt.scatter(x,y)\n",
    "plt.show()\n",
    "\n",
    "X = x\n",
    "Y = y"
   ]
  },
  {
   "cell_type": "code",
   "execution_count": 13,
   "metadata": {
    "scrolled": true
   },
   "outputs": [
    {
     "name": "stdout",
     "output_type": "stream",
     "text": [
      "3.0689265963335712 1.1696969696969786\n"
     ]
    }
   ],
   "source": [
    "def hypothesis(theta,x):\n",
    "    return theta[0] + theta[1]*x\n",
    "\n",
    "def error(X,Y,theta):\n",
    "    total_error = 0\n",
    "    m = X.shape[0]\n",
    "    \n",
    "    for i in range(m):\n",
    "        total_error += (Y[i] - hypothesis(theta,X[i]))**2\n",
    "    \n",
    "    return 0.5*total_error\n",
    "\n",
    "def gradient(Y,X,theta):\n",
    "    grad = np.array([0.0,0.0])\n",
    "    m = X.shape[0]\n",
    "    for i in range(m):\n",
    "        grad[0] += -1*(Y[i] - hypothesis(theta,X[i]))\n",
    "        grad[1] += -1*(Y[i] - hypothesis(theta,X[i]))*X[i]        \n",
    "    return grad\n",
    "\n",
    "def gradientDescent(X,Y,learning_rate,maxItr):\n",
    "    grad = np.array([0.0,0.0])\n",
    "    theta = np.array([0.0,0.0])\n",
    "    e = []\n",
    "    \n",
    "    for i in range(maxItr):\n",
    "        grad = gradient(Y,X,theta)\n",
    "        ce = error(X,Y,theta)\n",
    "        print(ce)\n",
    "        theta[0] = theta[0] - learning_rate*grad[0]\n",
    "        theta[1] = theta[1] - learning_rate*grad[1]\n",
    "        e.append(ce)\n",
    "        \n",
    "    return theta,e\n",
    "                \n",
    "#theta,e = gradientDescent(X,Y,learning_rate=0.001,maxItr=10000)\n",
    "print(theta[0],theta[1])"
   ]
  },
  {
   "cell_type": "code",
   "execution_count": 11,
   "metadata": {},
   "outputs": [
    {
     "data": {
      "image/png": "[encoded data removed]",
      "text/plain": [
       "<Figure size 432x288 with 1 Axes>"
      ]
     },
     "metadata": {},
     "output_type": "display_data"
    }
   ],
   "source": [
    "plt.scatter(X,Y)\n",
    "plt.plot(X,hypothesis(theta,X),color='r')\n",
    "plt.show()"
   ]
  },
  {
   "cell_type": "code",
   "execution_count": 12,
   "metadata": {},
   "outputs": [
    {
     "data": {
      "image/png": "[encoded data removed]",
      "text/plain": [
       "<Figure size 432x288 with 1 Axes>"
      ]
     },
     "metadata": {},
     "output_type": "display_data"
    }
   ],
   "source": [
    "plt.plot(e)\n",
    "plt.show()"
   ]
  },
  {
   "cell_type": "code",
   "execution_count": null,
   "metadata": {},
   "outputs": [],
   "source": []
  }
 ],
 "metadata": {
  "kernelspec": {
   "display_name": "Python 3",
   "language": "python",
   "name": "python3"
  },
  "language_info": {
   "codemirror_mode": {
    "name": "ipython",
    "version": 3
   },
   "file_extension": ".py",
   "mimetype": "text/x-python",
   "name": "python",
   "nbconvert_exporter": "python",
   "pygments_lexer": "ipython3",
   "version": "3.6.5"
  }
 },
 "nbformat": 4,
 "nbformat_minor": 2
}
